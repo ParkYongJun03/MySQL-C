{
 "cells": [
  {
   "cell_type": "code",
   "execution_count": 2,
   "metadata": {},
   "outputs": [
    {
     "name": "stdout",
     "output_type": "stream",
     "text": [
      "Requirement already satisfied: PyMySQL in c:\\dev\\python\\python310\\lib\\site-packages (1.0.2)\n"
     ]
    }
   ],
   "source": [
    "!pip install PyMySQL"
   ]
  },
  {
   "cell_type": "code",
   "execution_count": 15,
   "metadata": {},
   "outputs": [],
   "source": [
    "import pymysql"
   ]
  },
  {
   "cell_type": "code",
   "execution_count": 20,
   "metadata": {},
   "outputs": [
    {
     "name": "stderr",
     "output_type": "stream",
     "text": [
      "���͸� �̸��� �ùٸ��� �ʽ��ϴ�.\n"
     ]
    }
   ],
   "source": [
    "# !cd venv_sql/Scripts\n",
    "# activate.bat\n",
    "# cd..\n",
    "# cd.."
   ]
  },
  {
   "cell_type": "code",
   "execution_count": 12,
   "metadata": {},
   "outputs": [],
   "source": [
    "book_db = pymysql.connect(\n",
    "    user='root',\n",
    "    passwd='',\n",
    "    host='127.0.0.1',\n",
    "    db='ems'\n",
    ")"
   ]
  },
  {
   "cell_type": "code",
   "execution_count": 14,
   "metadata": {},
   "outputs": [
    {
     "data": {
      "text/plain": [
       "[{'id': 1,\n",
       "  'title': '파이썬 딥러닝 파이토치',\n",
       "  'writer': '이경택, 박성수, 안상준',\n",
       "  'genre': '컴퓨터 프로그래밍',\n",
       "  'release_date': datetime.date(2020, 10, 8),\n",
       "  'pages': 300,\n",
       "  'company': '우리집',\n",
       "  'price': Decimal('30000')}]"
      ]
     },
     "execution_count": 14,
     "metadata": {},
     "output_type": "execute_result"
    }
   ],
   "source": [
    "cursor = book_db.cursor(pymysql.cursors.DictCursor)\n",
    "sql = 'SELECT * FROM books_info'\n",
    "cursor.execute(sql)\n",
    "\n",
    "result = cursor.fetchall() #데이터 가져오기\n",
    "result"
   ]
  }
 ],
 "metadata": {
  "kernelspec": {
   "display_name": "Python 3.10.4 64-bit",
   "language": "python",
   "name": "python3"
  },
  "language_info": {
   "codemirror_mode": {
    "name": "ipython",
    "version": 3
   },
   "file_extension": ".py",
   "mimetype": "text/x-python",
   "name": "python",
   "nbconvert_exporter": "python",
   "pygments_lexer": "ipython3",
   "version": "3.10.4"
  },
  "orig_nbformat": 4,
  "vscode": {
   "interpreter": {
    "hash": "fe3d9237b4a62cd7715eb234158a07f236d8efc42b8ea743ee7cae33e0917df2"
   }
  }
 },
 "nbformat": 4,
 "nbformat_minor": 2
}
